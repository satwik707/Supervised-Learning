{
  "nbformat": 4,
  "nbformat_minor": 0,
  "metadata": {
    "colab": {
      "name": "LinearRegression(Scratch)",
      "provenance": [],
      "collapsed_sections": []
    },
    "kernelspec": {
      "name": "python3",
      "display_name": "Python 3"
    }
  },
  "cells": [
    {
      "cell_type": "code",
      "metadata": {
        "id": "8hwDKiXO9K8I",
        "colab_type": "code",
        "colab": {}
      },
      "source": [
        "import matplotlib.pyplot as plt \n",
        "plt.style.use('ggplot')\n",
        "%matplotlib inline\n",
        "import numpy as np\n",
        "import pandas as pd  \n",
        "import seaborn as sns \n",
        "from sklearn.linear_model import LinearRegression\n",
        "plt.rcParams['figure.figsize'] = (12, 8)"
      ],
      "execution_count": null,
      "outputs": []
    },
    {
      "cell_type": "code",
      "metadata": {
        "id": "BQrLNwcs9ilJ",
        "colab_type": "code",
        "colab": {}
      },
      "source": [
        ""
      ],
      "execution_count": null,
      "outputs": []
    },
    {
      "cell_type": "markdown",
      "metadata": {
        "id": "zRsEiF-99lId",
        "colab_type": "text"
      },
      "source": [
        "**Loading the dataset**"
      ]
    },
    {
      "cell_type": "code",
      "metadata": {
        "id": "IPrfkLp64OZF",
        "colab_type": "code",
        "colab": {}
      },
      "source": [
        ""
      ],
      "execution_count": null,
      "outputs": []
    },
    {
      "cell_type": "code",
      "metadata": {
        "id": "0uZy6q2k9tPY",
        "colab_type": "code",
        "colab": {
          "base_uri": "https://localhost:8080/",
          "height": 195
        },
        "outputId": "634c12df-2ff3-4f9e-e4ee-cd5177d8f5b2"
      },
      "source": [
        "data=pd.read_csv('/ex1data1.txt')\n",
        "data.head()"
      ],
      "execution_count": null,
      "outputs": [
        {
          "output_type": "execute_result",
          "data": {
            "text/html": [
              "<div>\n",
              "<style scoped>\n",
              "    .dataframe tbody tr th:only-of-type {\n",
              "        vertical-align: middle;\n",
              "    }\n",
              "\n",
              "    .dataframe tbody tr th {\n",
              "        vertical-align: top;\n",
              "    }\n",
              "\n",
              "    .dataframe thead th {\n",
              "        text-align: right;\n",
              "    }\n",
              "</style>\n",
              "<table border=\"1\" class=\"dataframe\">\n",
              "  <thead>\n",
              "    <tr style=\"text-align: right;\">\n",
              "      <th></th>\n",
              "      <th>Population</th>\n",
              "      <th>Profit</th>\n",
              "    </tr>\n",
              "  </thead>\n",
              "  <tbody>\n",
              "    <tr>\n",
              "      <th>0</th>\n",
              "      <td>6.1101</td>\n",
              "      <td>17.5920</td>\n",
              "    </tr>\n",
              "    <tr>\n",
              "      <th>1</th>\n",
              "      <td>5.5277</td>\n",
              "      <td>9.1302</td>\n",
              "    </tr>\n",
              "    <tr>\n",
              "      <th>2</th>\n",
              "      <td>8.5186</td>\n",
              "      <td>13.6620</td>\n",
              "    </tr>\n",
              "    <tr>\n",
              "      <th>3</th>\n",
              "      <td>7.0032</td>\n",
              "      <td>11.8540</td>\n",
              "    </tr>\n",
              "    <tr>\n",
              "      <th>4</th>\n",
              "      <td>5.8598</td>\n",
              "      <td>6.8233</td>\n",
              "    </tr>\n",
              "  </tbody>\n",
              "</table>\n",
              "</div>"
            ],
            "text/plain": [
              "   Population   Profit\n",
              "0      6.1101  17.5920\n",
              "1      5.5277   9.1302\n",
              "2      8.5186  13.6620\n",
              "3      7.0032  11.8540\n",
              "4      5.8598   6.8233"
            ]
          },
          "metadata": {
            "tags": []
          },
          "execution_count": 135
        }
      ]
    },
    {
      "cell_type": "markdown",
      "metadata": {
        "id": "rnNqKee-3D1X",
        "colab_type": "text"
      },
      "source": [
        "# New Section"
      ]
    },
    {
      "cell_type": "markdown",
      "metadata": {
        "id": "u6uMSvAY-qTP",
        "colab_type": "text"
      },
      "source": [
        "**visualize the data**"
      ]
    },
    {
      "cell_type": "code",
      "metadata": {
        "id": "OrGfXtbE_Eew",
        "colab_type": "code",
        "colab": {
          "base_uri": "https://localhost:8080/",
          "height": 517
        },
        "outputId": "552d9bc0-decf-4d15-ce9c-354cf1dc532f"
      },
      "source": [
        " data.plot(x=\"Population\",y=\"Profit\",style=\"ro\")\n",
        " plt.title(\"Population vs Profit\")\n",
        " plt.xlabel('Population')\n",
        " plt.ylabel('Profit')\n",
        " plt.show()\n",
        "#  help(plt)\n",
        "# data.plot(x='Population', y='Profit', style='o') "
      ],
      "execution_count": null,
      "outputs": [
        {
          "output_type": "display_data",
          "data": {
            "image/png": "[encoded data removed]",
            "text/plain": [
              "<Figure size 864x576 with 1 Axes>"
            ]
          },
          "metadata": {
            "tags": [],
            "needs_background": "light"
          }
        }
      ]
    },
    {
      "cell_type": "markdown",
      "metadata": {
        "id": "W5ttl_U4Cv6E",
        "colab_type": "text"
      },
      "source": [
        "\n",
        "The objective of linear regression is to minimize the cost function\n",
        "\n",
        "$$J(\\theta) = \\frac{1}{2m} \\sum_{i=1}^m (h_\\theta(x^{(i)}) - y^{(i)} )^2$$\n",
        "where $h_{\\theta}(x)$ is the hypothesis and given by the linear model\n",
        "\n",
        "$$h_{\\theta}(x) = \\theta^Tx = \\theta_0 + \\theta_1x_1$$"
      ]
    },
    {
      "cell_type": "code",
      "metadata": {
        "id": "OQLhTpYYOQYd",
        "colab_type": "code",
        "colab": {}
      },
      "source": [
        "def costFunction(X,Y,theta):\n",
        "  h=X.dot(theta)\n",
        "  error=(h-Y)**2\n",
        "  return (1/(2*m))*np.sum(error)\n"
      ],
      "execution_count": null,
      "outputs": []
    },
    {
      "cell_type": "code",
      "metadata": {
        "id": "-ulXYmahDL5B",
        "colab_type": "code",
        "colab": {
          "base_uri": "https://localhost:8080/",
          "height": 34
        },
        "outputId": "79de23af-17fb-4bff-916a-92e5a53fde17"
      },
      "source": [
        "m=data.Population.values.size\n",
        "X = np.append(np.ones((m,1)),data.Population.values.reshape(m,1),axis=1)\n",
        "Y = data['Profit'].values.reshape(-1,1)\n",
        "theta=np.zeros((2,1))\n",
        "costFunction(X,Y,theta)\n"
      ],
      "execution_count": null,
      "outputs": [
        {
          "output_type": "execute_result",
          "data": {
            "text/plain": [
              "32.072733877455676"
            ]
          },
          "metadata": {
            "tags": []
          },
          "execution_count": 138
        }
      ]
    },
    {
      "cell_type": "markdown",
      "metadata": {
        "id": "42dWgjRnQmEq",
        "colab_type": "text"
      },
      "source": [
        "**Gradient Descent**\n",
        "Minimize the cost function $J(\\theta)$ by updating the below equation and repeat unitil convergence\n",
        "\n",
        "$\\theta_j := \\theta_j - \\alpha \\frac{1}{m} \\sum_{i=1}^m (h_{\\theta}(x^{(i)}) - y^{(i)})x_j^{(i)}$ (simultaneously update $\\theta_j$ for all $j$)."
      ]
    },
    {
      "cell_type": "code",
      "metadata": {
        "id": "qvhDqV1WQroa",
        "colab_type": "code",
        "colab": {}
      },
      "source": [
        "def GradientDescent(X,Y,theta,alpha,iterations):\n",
        "  J_cost=[]\n",
        "  m=len(Y)\n",
        "  for i in range(iterations):\n",
        "    error=X.dot(theta)\n",
        "    error_update=np.dot(X.transpose(),error-Y)\n",
        "    theta=theta-(alpha/m)*error_update\n",
        "    J_cost.append(costFunction(X,Y,theta))\n",
        "  return theta,J_cost"
      ],
      "execution_count": null,
      "outputs": []
    },
    {
      "cell_type": "code",
      "metadata": {
        "id": "oppGtIVcTJox",
        "colab_type": "code",
        "colab": {
          "base_uri": "https://localhost:8080/",
          "height": 34
        },
        "outputId": "e18b4d32-f64f-49d6-a2af-82ca2b33ea07"
      },
      "source": [
        "theta,J_cost=GradientDescent(X,Y,theta,alpha=0.01,iterations=2000)\n",
        "print('the linear equation is {} + {}x'.format(theta[0,0],theta[1,0]))\n"
      ],
      "execution_count": null,
      "outputs": [
        {
          "output_type": "stream",
          "text": [
            "the linear equation is -3.78806857272311 + 1.1822127747573767x\n"
          ],
          "name": "stdout"
        }
      ]
    },
    {
      "cell_type": "code",
      "metadata": {
        "id": "hwk0kr-x9Sxa",
        "colab_type": "code",
        "colab": {}
      },
      "source": [
        ""
      ],
      "execution_count": null,
      "outputs": []
    },
    {
      "cell_type": "markdown",
      "metadata": {
        "id": "w-ad3fdi9UNz",
        "colab_type": "text"
      },
      "source": [
        "**Visualizing how J_cost varied with the iterations**\n"
      ]
    },
    {
      "cell_type": "code",
      "metadata": {
        "id": "LB7a-1Rf9dcc",
        "colab_type": "code",
        "colab": {
          "base_uri": "https://localhost:8080/",
          "height": 534
        },
        "outputId": "e86bb32d-bf2b-4be6-e9b7-c90f128c60e5"
      },
      "source": [
        "plt.plot(J_cost)\n",
        "plt.xlabel(\"Iterations\")\n",
        "plt.ylabel(\"$J(\\Theta)$\")\n",
        "plt.title(\"Values of the Cost Function over Iterations of Gradient Descent\")"
      ],
      "execution_count": null,
      "outputs": [
        {
          "output_type": "execute_result",
          "data": {
            "text/plain": [
              "Text(0.5, 1.0, 'Values of the Cost Function over Iterations of Gradient Descent')"
            ]
          },
          "metadata": {
            "tags": []
          },
          "execution_count": 141
        },
        {
          "output_type": "display_data",
          "data": {
            "image/png": "[encoded data removed]",
            "text/plain": [
              "<Figure size 864x576 with 1 Axes>"
            ]
          },
          "metadata": {
            "tags": [],
            "needs_background": "light"
          }
        }
      ]
    },
    {
      "cell_type": "markdown",
      "metadata": {
        "id": "Rk5RRQ2sB5YI",
        "colab_type": "text"
      },
      "source": [
        "**y=mx+c**"
      ]
    },
    {
      "cell_type": "code",
      "metadata": {
        "id": "SymRxFKQCGsP",
        "colab_type": "code",
        "colab": {}
      },
      "source": [
        "def predict(X,theta):\n",
        "  return np.dot(theta.transpose(),X)\n"
      ],
      "execution_count": null,
      "outputs": []
    },
    {
      "cell_type": "code",
      "metadata": {
        "id": "3oV75-XUC8zR",
        "colab_type": "code",
        "colab": {
          "base_uri": "https://localhost:8080/",
          "height": 534
        },
        "outputId": "5142eb9b-ca1d-4384-ae00-7fd3a54f11a8"
      },
      "source": [
        "\n",
        "theta = np.squeeze(theta)\n",
        "sns.scatterplot(x=\"Population\", y=\"Profit\", data=data)\n",
        "x_value = data.Population.values\n",
        "y_value = [(x * theta[1] + theta[0]) for x in x_value]\n",
        "sns.lineplot(x_value,y_value)"
      ],
      "execution_count": null,
      "outputs": [
        {
          "output_type": "stream",
          "text": [
            "0.9407825263063971\n"
          ],
          "name": "stdout"
        },
        {
          "output_type": "execute_result",
          "data": {
            "text/plain": [
              "<matplotlib.axes._subplots.AxesSubplot at 0x7f2e48ccb828>"
            ]
          },
          "metadata": {
            "tags": []
          },
          "execution_count": 157
        },
        {
          "output_type": "display_data",
          "data": {
            "image/png": "[encoded data removed]",
            "text/plain": [
              "<Figure size 864x576 with 1 Axes>"
            ]
          },
          "metadata": {
            "tags": [],
            "needs_background": "light"
          }
        }
      ]
    },
    {
      "cell_type": "code",
      "metadata": {
        "id": "gmRMUQ-GNpyj",
        "colab_type": "code",
        "colab": {
          "base_uri": "https://localhost:8080/",
          "height": 34
        },
        "outputId": "d9192bbf-bc99-4adb-dda5-9e0e4207a76b"
      },
      "source": [
        ""
      ],
      "execution_count": null,
      "outputs": [
        {
          "output_type": "stream",
          "text": [
            "3.435369702321938\n"
          ],
          "name": "stdout"
        }
      ]
    },
    {
      "cell_type": "markdown",
      "metadata": {
        "id": "vL3lRXZUNqHU",
        "colab_type": "text"
      },
      "source": [
        "NOW using the linearregression() inbluit function"
      ]
    },
    {
      "cell_type": "code",
      "metadata": {
        "id": "zztS9MuSN5vK",
        "colab_type": "code",
        "colab": {
          "base_uri": "https://localhost:8080/",
          "height": 34
        },
        "outputId": "0e6dbd93-afd3-4e93-a9f5-522317528105"
      },
      "source": [
        "regressor=LinearRegression()\n",
        "\n",
        "X1=data.Population.values.reshape(-1,1)\n",
        "Y1=data.Profit.values.reshape(-1,1)\n",
        "regressor.fit(X1,Y1)\n",
        "\n"
      ],
      "execution_count": null,
      "outputs": [
        {
          "output_type": "execute_result",
          "data": {
            "text/plain": [
              "LinearRegression(copy_X=True, fit_intercept=True, n_jobs=None, normalize=False)"
            ]
          },
          "metadata": {
            "tags": []
          },
          "execution_count": 163
        }
      ]
    },
    {
      "cell_type": "markdown",
      "metadata": {
        "id": "VvpMLY5OOwvt",
        "colab_type": "text"
      },
      "source": [
        "# **The difference between the parameters**\n",
        "**bold text**"
      ]
    },
    {
      "cell_type": "code",
      "metadata": {
        "id": "UF2fKWvTPB_k",
        "colab_type": "code",
        "colab": {
          "base_uri": "https://localhost:8080/",
          "height": 84
        },
        "outputId": "3025a19f-7abd-4cea-d927-902c61391831"
      },
      "source": [
        "theta2=np.zeros((2,1))\n",
        "theta2[0,0]=regressor.intercept_\n",
        "theta2[1,0]=regressor.coef_\n",
        "\n",
        "print('our calculated intercept is {} and the intercept calculated by the library is {}'.format(theta[0],theta2[0,0]))\n",
        "print('our calculated coefficient is {} and the coefficient calculated by the library is {}'.format(theta[1],theta2[1,0]))\n",
        "print('our calculated linear equation is {} + {}x'.format(theta[0],theta[1]))\n",
        "print('the linear equation by inbuilt-function is {} + {}x'.format(theta2[0,0],theta2[1,0]))"
      ],
      "execution_count": null,
      "outputs": [
        {
          "output_type": "stream",
          "text": [
            "our calculated intercept is -3.78806857272311 and the intercept calculated by the library is -3.89578087831185\n",
            "our calculated coefficient is 1.1822127747573767 and the coefficient calculated by the library is 1.1930336441895935\n",
            "our calculated linear equation is -3.78806857272311 + 1.1822127747573767x\n",
            "the linear equation by inbuilt-function is -3.89578087831185 + 1.1930336441895935x\n"
          ],
          "name": "stdout"
        }
      ]
    }
  ]
}